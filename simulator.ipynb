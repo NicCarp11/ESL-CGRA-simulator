{
 "cells": [
  {
   "attachments": {},
   "cell_type": "markdown",
   "id": "9c085e9d",
   "metadata": {},
   "source": [
    "# Test a ready kernel"
   ]
  },
  {
   "cell_type": "code",
   "execution_count": null,
   "id": "93cdc330-9553-4750-9f9b-ced2c9da81e2",
   "metadata": {
    "tags": []
   },
   "outputs": [],
   "source": [
    "from cgra import *\n",
    "run(\"convolution\", '_v2', pr=[\"ROUT\",\"OPS\"])"
   ]
  },
  {
   "attachments": {},
   "cell_type": "markdown",
   "id": "3125a0e6",
   "metadata": {},
   "source": [
    "# Create a new kernel "
   ]
  },
  {
   "cell_type": "code",
   "execution_count": null,
   "id": "88657fbf",
   "metadata": {},
   "outputs": [],
   "source": [
    "from sat_to_csv import *\n",
    "from kernels import *\n",
    "\n",
    "# Kernels will be located in a folder with the kernel's name\n",
    "kernel_name = \"strsearch\"\n",
    "\n",
    "# Create a new folder (if it does not exist already) and add the minimum necessary files to run it \n",
    "kernel_new(kernel_name)\n",
    "\n",
    "# If you have a assembly in the SAT-MapIt format, you can convert it to a csv \n",
    "convert( kernel_name+\"/out.sat\", kernel_name+\"/instructions.csv\" )\n",
    "\n",
    "# To test this kernel we will fill the memory with two random arrays\n",
    "# Note that the addresses in memory (36464 and 37800) correspond to inputs in the inputs.csv file)\n",
    "kernel_clear_memory(kernel_name)\n",
    "kernel_add_memory_region(kernel_name, 36464, [0, 1, 2, 3, 4, 5, 6, 7, 8, 9, 10, 11, 12, 13, 14, 15, 16, 17, 18, 19, 20, 21, 22, 23, 24, 25, 26, 27, 28, 29, 30, 31, 32, 33, 34, 35, 36, 37, 38, 39, 40, 41, 42, 43, 44, 45, 46, 47, 48, 49, 50, 51, 52, 53, 54, 55, 56, 57, 58, 59, 60, 61, 62, 63, 64, 97, 98, 99, 100, 101, 102, 103, 104, 105, 106, 107, 108, 109, 110, 111, 112, 113, 114, 115, 116, 117, 118, 119, 120, 121, 122, 91, 92, 93, 94, 95, 96, 97, 98, 99, 100, 101, 102, 103, 104, 105, 106, 107, 108, 109, 110, 111, 112, 113, 114, 115, 116, 117, 118, 119, 120, 121, 122, 123, 124, 125, 126, 127, 128, 129, 130, 131, 132, 133, 134, 135, 136, 137, 138, 139, 140, 141, 142, 143, 144, 145, 146, 147, 148, 149, 150, 151, 152, 153, 154, 155, 156, 157, 158, 159, 160, 161, 162, 163, 164, 165, 166, 167, 168, 169, 170, 171, 172, 173, 174, 175, 176, 177, 178, 179, 180, 181, 182, 183, 184, 185, 186, 187, 188, 189, 190, 191, 192, 193, 194, 195, 196, 197, 198, 199, 200, 201, 202, 203, 204, 205, 206, 207, 208, 209, 210, 211, 212, 213, 214, 215, 216, 217, 218, 219, 220, 221, 222, 223, 224, 225, 226, 227, 228, 229, 230, 231, 232, 233, 234, 235, 236, 237, 238, 239, 240, 241, 242, 243, 244, 245, 246, 247, 248, 249, 250, 251, 252, 253, 254])\n",
    "kernel_add_memory_region(kernel_name, 37800, [52, 112, 92, 86, 50, 81, 54, 111, 118, 87, 47, 68, 90, 65, 85, 105, 122, 50, 98, 82, 75, 42, 125, 66, 53, 69, 72, 129, 125, 112, 101, 111, 106, 103, 109, 45, 126, 105, 52, 114, 91, 49, 116, 39, 51, 84, 86, 83, 80, 93] )\n",
    "\n",
    "# Note that the inputs file was manually filled. This might be the hardest part of debugging a kernel from the compiler output. "
   ]
  },
  {
   "cell_type": "code",
   "execution_count": null,
   "id": "0baec11c",
   "metadata": {},
   "outputs": [],
   "source": [
    "import cgra\n",
    "cgra.run( \"strsearch\", pr=[\"ROUT\", \"R0\",\"INST\"], limit=20 )"
   ]
  },
  {
   "attachments": {},
   "cell_type": "markdown",
   "id": "51334fa4",
   "metadata": {},
   "source": [
    "# Your turn to play around"
   ]
  },
  {
   "cell_type": "code",
   "execution_count": null,
   "id": "64ef2def",
   "metadata": {},
   "outputs": [],
   "source": [
    "\n"
   ]
  }
 ],
 "metadata": {
  "kernelspec": {
   "display_name": "Python 3 (ipykernel)",
   "language": "python",
   "name": "python3"
  },
  "language_info": {
   "codemirror_mode": {
    "name": "ipython",
    "version": 3
   },
   "file_extension": ".py",
   "mimetype": "text/x-python",
   "name": "python",
   "nbconvert_exporter": "python",
   "pygments_lexer": "ipython3",
   "version": "3.11.4"
  }
 },
 "nbformat": 4,
 "nbformat_minor": 5
}
